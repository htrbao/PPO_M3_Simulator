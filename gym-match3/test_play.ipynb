{
 "cells": [
  {
   "cell_type": "markdown",
   "metadata": {},
   "source": [
    "# M3 Simulator Usage\n",
    "\n",
    "### Action space\n",
    "<img width=40% src=./usages/action.png>"
   ]
  },
  {
   "cell_type": "code",
   "execution_count": 1,
   "metadata": {},
   "outputs": [
    {
     "ename": "KeyboardInterrupt",
     "evalue": "",
     "output_type": "error",
     "traceback": [
      "\u001b[1;31m---------------------------------------------------------------------------\u001b[0m",
      "\u001b[1;31mKeyboardInterrupt\u001b[0m                         Traceback (most recent call last)",
      "Cell \u001b[1;32mIn[1], line 1\u001b[0m\n\u001b[1;32m----> 1\u001b[0m \u001b[38;5;28;01mfrom\u001b[39;00m \u001b[38;5;21;01mgym_match3\u001b[39;00m\u001b[38;5;21;01m.\u001b[39;00m\u001b[38;5;21;01menvs\u001b[39;00m \u001b[38;5;28;01mimport\u001b[39;00m Match3Env\n\u001b[0;32m      2\u001b[0m \u001b[38;5;28;01mfrom\u001b[39;00m \u001b[38;5;21;01mgym_match3\u001b[39;00m\u001b[38;5;21;01m.\u001b[39;00m\u001b[38;5;21;01menvs\u001b[39;00m\u001b[38;5;21;01m.\u001b[39;00m\u001b[38;5;21;01mlevels\u001b[39;00m \u001b[38;5;28;01mimport\u001b[39;00m LEVELS \u001b[38;5;66;03m#  default levels\u001b[39;00m\n\u001b[0;32m      3\u001b[0m \u001b[38;5;28;01mfrom\u001b[39;00m \u001b[38;5;21;01mgym_match3\u001b[39;00m\u001b[38;5;21;01m.\u001b[39;00m\u001b[38;5;21;01menvs\u001b[39;00m\u001b[38;5;21;01m.\u001b[39;00m\u001b[38;5;21;01mlevels\u001b[39;00m \u001b[38;5;28;01mimport\u001b[39;00m Match3Levels, Level\n",
      "File \u001b[1;32me:\\PPO_M3_Simulator\\gym-match3\\gym_match3\\envs\\__init__.py:1\u001b[0m\n\u001b[1;32m----> 1\u001b[0m \u001b[38;5;28;01mfrom\u001b[39;00m \u001b[38;5;21;01mgym_match3\u001b[39;00m\u001b[38;5;21;01m.\u001b[39;00m\u001b[38;5;21;01menvs\u001b[39;00m\u001b[38;5;21;01m.\u001b[39;00m\u001b[38;5;21;01mmatch3_env\u001b[39;00m \u001b[38;5;28;01mimport\u001b[39;00m Match3Env\n",
      "File \u001b[1;32me:\\PPO_M3_Simulator\\gym-match3\\gym_match3\\envs\\match3_env.py:10\u001b[0m\n\u001b[0;32m      8\u001b[0m \u001b[38;5;28;01mfrom\u001b[39;00m \u001b[38;5;21;01mgym_match3\u001b[39;00m\u001b[38;5;21;01m.\u001b[39;00m\u001b[38;5;21;01menvs\u001b[39;00m\u001b[38;5;21;01m.\u001b[39;00m\u001b[38;5;21;01mrenderer\u001b[39;00m \u001b[38;5;28;01mimport\u001b[39;00m Renderer\n\u001b[0;32m      9\u001b[0m \u001b[38;5;28;01mfrom\u001b[39;00m \u001b[38;5;21;01mgym_match3\u001b[39;00m\u001b[38;5;21;01m.\u001b[39;00m\u001b[38;5;21;01menvs\u001b[39;00m\u001b[38;5;21;01m.\u001b[39;00m\u001b[38;5;21;01mconstants\u001b[39;00m \u001b[38;5;28;01mimport\u001b[39;00m GameObject\n\u001b[1;32m---> 10\u001b[0m \u001b[38;5;28;01mfrom\u001b[39;00m \u001b[38;5;21;01mgym_match3\u001b[39;00m\u001b[38;5;21;01m.\u001b[39;00m\u001b[38;5;21;01menvs\u001b[39;00m\u001b[38;5;21;01m.\u001b[39;00m\u001b[38;5;21;01mmatch3_helper\u001b[39;00m \u001b[38;5;28;01mimport\u001b[39;00m M3Helper\n\u001b[0;32m     12\u001b[0m \u001b[38;5;28;01mfrom\u001b[39;00m \u001b[38;5;21;01mitertools\u001b[39;00m \u001b[38;5;28;01mimport\u001b[39;00m product\n\u001b[0;32m     13\u001b[0m \u001b[38;5;28;01mimport\u001b[39;00m \u001b[38;5;21;01mwarnings\u001b[39;00m\n",
      "File \u001b[1;32me:\\PPO_M3_Simulator\\gym-match3\\gym_match3\\envs\\match3_helper.py:2\u001b[0m\n\u001b[0;32m      1\u001b[0m \u001b[38;5;28;01mfrom\u001b[39;00m \u001b[38;5;21;01mcopy\u001b[39;00m \u001b[38;5;28;01mimport\u001b[39;00m copy\n\u001b[1;32m----> 2\u001b[0m \u001b[38;5;28;01mimport\u001b[39;00m \u001b[38;5;21;01mtorch\u001b[39;00m\n\u001b[0;32m      3\u001b[0m \u001b[38;5;28;01mimport\u001b[39;00m \u001b[38;5;21;01mnumpy\u001b[39;00m \u001b[38;5;28;01mas\u001b[39;00m \u001b[38;5;21;01mnp\u001b[39;00m\n\u001b[0;32m      5\u001b[0m \u001b[38;5;28;01mfrom\u001b[39;00m \u001b[38;5;21;01mgym_match3\u001b[39;00m\u001b[38;5;21;01m.\u001b[39;00m\u001b[38;5;21;01menvs\u001b[39;00m\u001b[38;5;21;01m.\u001b[39;00m\u001b[38;5;21;01mconstants\u001b[39;00m \u001b[38;5;28;01mimport\u001b[39;00m GameObject\n",
      "File \u001b[1;32mc:\\Users\\CPU12982-local\\anaconda3\\envs\\m3_simu\\lib\\site-packages\\torch\\__init__.py:125\u001b[0m\n\u001b[0;32m    123\u001b[0m is_loaded \u001b[38;5;241m=\u001b[39m \u001b[38;5;28;01mFalse\u001b[39;00m\n\u001b[0;32m    124\u001b[0m \u001b[38;5;28;01mif\u001b[39;00m with_load_library_flags:\n\u001b[1;32m--> 125\u001b[0m     res \u001b[38;5;241m=\u001b[39m \u001b[43mkernel32\u001b[49m\u001b[38;5;241;43m.\u001b[39;49m\u001b[43mLoadLibraryExW\u001b[49m\u001b[43m(\u001b[49m\u001b[43mdll\u001b[49m\u001b[43m,\u001b[49m\u001b[43m \u001b[49m\u001b[38;5;28;43;01mNone\u001b[39;49;00m\u001b[43m,\u001b[49m\u001b[43m \u001b[49m\u001b[38;5;241;43m0x00001100\u001b[39;49m\u001b[43m)\u001b[49m\n\u001b[0;32m    126\u001b[0m     last_error \u001b[38;5;241m=\u001b[39m ctypes\u001b[38;5;241m.\u001b[39mget_last_error()\n\u001b[0;32m    127\u001b[0m     \u001b[38;5;28;01mif\u001b[39;00m res \u001b[38;5;129;01mis\u001b[39;00m \u001b[38;5;28;01mNone\u001b[39;00m \u001b[38;5;129;01mand\u001b[39;00m last_error \u001b[38;5;241m!=\u001b[39m \u001b[38;5;241m126\u001b[39m:\n",
      "\u001b[1;31mKeyboardInterrupt\u001b[0m: "
     ]
    }
   ],
   "source": [
    "from gym_match3.envs import Match3Env\n",
    "from gym_match3.envs.levels import LEVELS #  default levels\n",
    "from gym_match3.envs.levels import Match3Levels, Level\n",
    "from gym_match3.envs.game import *\n",
    "\n",
    "matcher = MatchesSearcher(3, 2)\n",
    "\n",
    "# create an instance with extended levels\n",
    "custom_m3_levels = Match3Levels(levels=LEVELS) \n",
    "env = Match3Env(levels=custom_m3_levels)"
   ]
  },
  {
   "cell_type": "code",
   "execution_count": null,
   "metadata": {},
   "outputs": [
    {
     "name": "stdout",
     "output_type": "stream",
     "text": [
      "[[14. 14.  2.  4.  5.  1.  2.  1.  5.]\n",
      " [14. 14.  1.  2.  1.  2.  4.  1.  2.]\n",
      " [ 5.  4.  5.  3.  3.  2.  1.  2.  1.]\n",
      " [ 3.  5.  3.  1.  5.  4.  2.  1.  2.]\n",
      " [ 4.  1.  3.  2.  1.  5.  4.  5.  4.]\n",
      " [ 1.  5.  4.  1.  2.  4.  4.  1.  3.]\n",
      " [ 3.  4.  3.  1.  3.  1.  3.  3.  4.]\n",
      " [ 2.  5.  1.  3.  3.  2. 14. 14.  3.]\n",
      " [ 4.  5.  4.  1.  1.  3. 14. 14.  3.]\n",
      " [ 2.  3.  1.  3.  3.  1.  4.  1.  1.]]\n"
     ]
    }
   ],
   "source": [
    "env.render()"
   ]
  },
  {
   "cell_type": "code",
   "execution_count": null,
   "metadata": {},
   "outputs": [
    {
     "name": "stdout",
     "output_type": "stream",
     "text": [
      "frozenset({(8, 7), (9, 7)})\n",
      "[]\n",
      "abc False\n",
      "abc False\n",
      "abc False\n",
      "abc False\n",
      "abc False\n",
      "abc False\n",
      "abc False\n",
      "abc False\n",
      "abc False\n",
      "abc False\n",
      "abc False\n",
      "abc False\n",
      "abc False\n",
      "abc False\n",
      "abc False\n",
      "abc False\n",
      "abc False\n",
      "abc False\n",
      "abc False\n",
      "abc False\n",
      "abc False\n",
      "abc False\n",
      "abc False\n",
      "abc False\n",
      "abc False\n",
      "abc False\n",
      "abc False\n",
      "abc False\n",
      "abc False\n",
      "abc False\n",
      "abc False\n",
      "abc False\n",
      "abc False\n",
      "abc False\n",
      "abc False\n",
      "abc False\n",
      "abc False\n",
      "abc False\n",
      "abc False\n",
      "abc False\n",
      "abc False\n",
      "abc False\n",
      "abc False\n",
      "abc False\n",
      "abc False\n",
      "abc False\n",
      "abc False\n",
      "abc False\n",
      "abc False\n",
      "abc False\n",
      "abc False\n",
      "abc False\n",
      "abc False\n",
      "abc False\n",
      "abc False\n",
      "abc False\n",
      "abc False\n",
      "abc False\n",
      "abc False\n",
      "abc False\n",
      "abc False\n",
      "abc False\n",
      "abc False\n",
      "abc False\n",
      "abc False\n",
      "abc False\n",
      "abc False\n",
      "abc False\n",
      "abc False\n",
      "abc False\n",
      "abc False\n",
      "abc False\n",
      "abc False\n",
      "abc False\n",
      "abc False\n",
      "abc False\n",
      "abc False\n",
      "abc False\n",
      "abc False\n",
      "abc False\n",
      "abc False\n",
      "abc False\n",
      "{'score': 0, 'damage_on_monster': 0, 'damage_on_user': 0}\n",
      "[[14. 14.  2.  4.  5.  1.  2.  1.  5.]\n",
      " [14. 14.  1.  2.  1.  2.  4.  1.  2.]\n",
      " [ 5.  4.  5.  3.  3.  2.  1.  2.  1.]\n",
      " [ 3.  5.  3.  1.  5.  4.  2.  1.  2.]\n",
      " [ 4.  1.  3.  2.  1.  5.  4.  5.  4.]\n",
      " [ 1.  5.  4.  1.  2.  4.  4.  1.  3.]\n",
      " [ 3.  4.  3.  1.  3.  1.  3.  3.  4.]\n",
      " [ 2.  5.  1.  3.  3.  2. 14. 14.  3.]\n",
      " [ 4.  5.  4.  1.  1.  3. 14. 14.  3.]\n",
      " [ 2.  3.  1.  3.  3.  1.  4.  1.  1.]]\n"
     ]
    }
   ],
   "source": [
    "env.step(159)\n",
    "env.render()"
   ]
  },
  {
   "cell_type": "code",
   "execution_count": 3,
   "metadata": {},
   "outputs": [
    {
     "name": "stdout",
     "output_type": "stream",
     "text": [
      "{'score': 2, 'cancel_score': 0, 'damage_on_monster': 1, 'damage_on_user': 0}\n",
      "[[ 4.  1.  1.]\n",
      " [ 5. 15.  1.]\n",
      " [ 1.  1.  2.]]\n"
     ]
    }
   ],
   "source": [
    "from gym_match3.envs.game import *\n",
    "\n",
    "game = Game(rows=3, columns=3, n_shapes=5,\n",
    "                         length=3, random_state=1)\n",
    "board = np.array([\n",
    "    [7, 1, 1],\n",
    "    [1, 15, 1],\n",
    "    [1, 1, 2]\n",
    "])\n",
    "                 \n",
    "blocker = BlockerFactory.create_blocker(11, Point(2, 0))\n",
    "list_monsters = [\n",
    "        BoxMonster(15, position=Point(1, 1),\n",
    "                   relax_interval = 0,\n",
    "                   setup_interval = 0,\n",
    "                    width=1,\n",
    "                    height=1,\n",
    "                    hp=30\n",
    "                    ),\n",
    "        blocker]\n",
    "game.start(board, list_monsters)\n",
    "print(game.swap(Point(0, 0), Point(1, 0)))\n",
    "print(game.board)"
   ]
  },
  {
   "cell_type": "code",
   "execution_count": 4,
   "metadata": {},
   "outputs": [
    {
     "name": "stdout",
     "output_type": "stream",
     "text": [
      "{'score': 3, 'cancel_score': 0, 'damage_on_monster': 1, 'damage_on_user': 0}\n",
      "[[ 4.  1.  4.]\n",
      " [ 5. 15.  5.]\n",
      " [ 1.  2.  1.]]\n"
     ]
    }
   ],
   "source": [
    "print(game.swap(Point(2, 1), Point(2, 2)))\n",
    "print(game.board)"
   ]
  }
 ],
 "metadata": {
  "kernelspec": {
   "display_name": "m3_simu",
   "language": "python",
   "name": "python3"
  },
  "language_info": {
   "codemirror_mode": {
    "name": "ipython",
    "version": 3
   },
   "file_extension": ".py",
   "mimetype": "text/x-python",
   "name": "python",
   "nbconvert_exporter": "python",
   "pygments_lexer": "ipython3",
   "version": "3.9.19"
  }
 },
 "nbformat": 4,
 "nbformat_minor": 2
}
