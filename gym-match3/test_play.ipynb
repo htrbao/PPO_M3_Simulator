{
 "cells": [
  {
   "cell_type": "markdown",
   "metadata": {},
   "source": [
    "# M3 Simulator Usage\n",
    "\n",
    "### Action space\n",
    "<img width=40% src=./usages/action.png>"
   ]
  },
  {
   "cell_type": "code",
   "execution_count": 1,
   "metadata": {},
   "outputs": [],
   "source": [
    "from gym_match3.envs import Match3Env\n",
    "from gym_match3.envs.levels import LEVELS #  default levels\n",
    "from gym_match3.envs.levels import Match3Levels, Level\n",
    "from gym_match3.envs.game import *\n",
    "\n",
    "matcher = MatchesSearcher(3, 2)\n",
    "\n",
    "# create an instance with extended levels\n",
    "custom_m3_levels = Match3Levels(levels=LEVELS) \n",
    "env = Match3Env(levels=custom_m3_levels)"
   ]
  },
  {
   "cell_type": "code",
   "execution_count": 2,
   "metadata": {},
   "outputs": [
    {
     "name": "stdout",
     "output_type": "stream",
     "text": [
      "[[ 1.  4.  2.  3.  1.  3.  3.  1.  3.]\n",
      " [ 4.  5.  2.  1.  3.  3.  4.  1.  5.]\n",
      " [ 2.  2.  4.  4.  2.  2.  4.  5.  3.]\n",
      " [ 3.  1.  1.  2.  5.  4.  1.  2.  2.]\n",
      " [ 3.  3.  4.  1. 16. 16.  1.  1.  2.]\n",
      " [ 1.  4.  3.  4. 16. 16.  5.  3.  4.]\n",
      " [ 1.  2.  2.  3.  3.  2.  4.  2.  2.]\n",
      " [ 4.  4.  3.  1.  3.  1.  1.  2.  4.]\n",
      " [ 4.  3.  2.  4.  4.  3.  4.  4.  1.]\n",
      " [ 2.  1.  4.  4.  2.  3.  1.  1.  4.]]\n"
     ]
    }
   ],
   "source": [
    "env.render()"
   ]
  },
  {
   "cell_type": "code",
   "execution_count": 4,
   "metadata": {},
   "outputs": [
    {
     "name": "stdout",
     "output_type": "stream",
     "text": [
      "frozenset({(2, 1), (2, 2)})\n"
     ]
    },
    {
     "data": {
      "text/plain": [
       "(array([[ 1.,  4.,  1.,  3.,  1.,  3.,  3.,  1.,  3.],\n",
       "        [ 4.,  5.,  1.,  1.,  3.,  3.,  4.,  1.,  5.],\n",
       "        [ 2.,  4.,  5.,  4.,  2.,  2.,  4.,  5.,  3.],\n",
       "        [ 3.,  1.,  1.,  2.,  5.,  4.,  1.,  2.,  2.],\n",
       "        [ 3.,  3.,  4.,  1., 16., 16.,  1.,  1.,  2.],\n",
       "        [ 1.,  4.,  3.,  4., 16., 16.,  5.,  3.,  4.],\n",
       "        [ 1.,  2.,  2.,  3.,  3.,  2.,  4.,  2.,  2.],\n",
       "        [ 4.,  4.,  3.,  1.,  3.,  1.,  1.,  2.,  4.],\n",
       "        [ 4.,  3.,  2.,  4.,  4.,  3.,  4.,  4.,  1.],\n",
       "        [ 2.,  1.,  4.,  4.,  2.,  3.,  1.,  1.,  4.]]),\n",
       " 3,\n",
       " False,\n",
       " {})"
      ]
     },
     "execution_count": 4,
     "metadata": {},
     "output_type": "execute_result"
    }
   ],
   "source": [
    "env.step(17)"
   ]
  }
 ],
 "metadata": {
  "kernelspec": {
   "display_name": "m3_simu",
   "language": "python",
   "name": "python3"
  },
  "language_info": {
   "codemirror_mode": {
    "name": "ipython",
    "version": 3
   },
   "file_extension": ".py",
   "mimetype": "text/x-python",
   "name": "python",
   "nbconvert_exporter": "python",
   "pygments_lexer": "ipython3",
   "version": "3.9.19"
  }
 },
 "nbformat": 4,
 "nbformat_minor": 2
}
