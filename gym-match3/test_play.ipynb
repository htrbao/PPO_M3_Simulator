{
 "cells": [
  {
   "cell_type": "markdown",
   "metadata": {},
   "source": [
    "# M3 Simulator Usage\n",
    "\n",
    "### Action space\n",
    "<img width=40% src=./usages/action.png>"
   ]
  },
  {
   "cell_type": "code",
   "execution_count": 1,
   "metadata": {},
   "outputs": [],
   "source": [
    "from gym_match3.envs import Match3Env\n",
    "from gym_match3.envs.levels import LEVELS #  default levels\n",
    "from gym_match3.envs.levels import Match3Levels, Level\n",
    "from gym_match3.envs.game import *\n",
    "\n",
    "matcher = MatchesSearcher(3, 2)\n",
    "\n",
    "# create an instance with extended levels\n",
    "custom_m3_levels = Match3Levels(levels=LEVELS) \n",
    "env = Match3Env(levels=custom_m3_levels)"
   ]
  },
  {
   "cell_type": "code",
   "execution_count": 2,
   "metadata": {},
   "outputs": [
    {
     "name": "stdout",
     "output_type": "stream",
     "text": [
      "[[ 2.  1.  2.  1.  1.  4.  4.  0.  2.]\n",
      " [ 3.  0.  3.  0.  4.  4.  1.  0.  3.]\n",
      " [ 4.  2.  2.  1.  0.  3.  3.  2.  4.]\n",
      " [ 3.  0.  2.  4.  1.  2.  0.  2.  3.]\n",
      " [ 3.  1.  0.  1. 15. 15.  1.  3.  2.]\n",
      " [ 4.  1.  4.  3. 15. 15.  3.  3.  4.]\n",
      " [ 3.  2.  2.  4.  2.  0.  4.  2.  0.]\n",
      " [ 0.  3.  0.  2.  0.  2.  4.  0.  2.]\n",
      " [ 4.  4.  2.  1.  1.  4.  2.  0.  2.]\n",
      " [ 0.  2.  3.  2.  4.  0.  3.  1.  1.]]\n"
     ]
    }
   ],
   "source": [
    "env.render()"
   ]
  },
  {
   "cell_type": "code",
   "execution_count": 5,
   "metadata": {},
   "outputs": [
    {
     "name": "stdout",
     "output_type": "stream",
     "text": [
      "frozenset({(6, 7), (6, 8)})\n"
     ]
    },
    {
     "data": {
      "text/plain": [
       "(array([[ 2.,  2.,  0.,  3.,  0.,  4.,  4.,  0.,  3.],\n",
       "        [ 3.,  0.,  3.,  0.,  4.,  4.,  1.,  0.,  4.],\n",
       "        [ 4.,  2.,  2.,  1.,  0.,  3.,  3.,  2.,  1.],\n",
       "        [ 3.,  0.,  2.,  4.,  1.,  2.,  0.,  2.,  2.],\n",
       "        [ 3.,  1.,  0.,  1., 15., 15.,  1.,  3.,  3.],\n",
       "        [ 4.,  1.,  4.,  3., 15., 15.,  3.,  3.,  4.],\n",
       "        [ 3.,  2.,  2.,  4.,  2.,  0.,  4.,  0.,  3.],\n",
       "        [ 0.,  3.,  0.,  2.,  0.,  2.,  4.,  0.,  2.],\n",
       "        [ 4.,  4.,  2.,  1.,  1.,  4.,  2.,  0.,  4.],\n",
       "        [ 0.,  2.,  3.,  2.,  4.,  0.,  3.,  1.,  1.]]),\n",
       " 3,\n",
       " False,\n",
       " {})"
      ]
     },
     "execution_count": 5,
     "metadata": {},
     "output_type": "execute_result"
    }
   ],
   "source": [
    "env.step(55)"
   ]
  }
 ],
 "metadata": {
  "kernelspec": {
   "display_name": "m3_simu",
   "language": "python",
   "name": "python3"
  },
  "language_info": {
   "codemirror_mode": {
    "name": "ipython",
    "version": 3
   },
   "file_extension": ".py",
   "mimetype": "text/x-python",
   "name": "python",
   "nbconvert_exporter": "python",
   "pygments_lexer": "ipython3",
   "version": "3.9.19"
  }
 },
 "nbformat": 4,
 "nbformat_minor": 2
}
